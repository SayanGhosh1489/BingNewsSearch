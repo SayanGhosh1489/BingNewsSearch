{
  "nbformat": 4,
  "nbformat_minor": 0,
  "metadata": {
    "colab": {
      "provenance": [],
      "authorship_tag": "ABX9TyN1FbyFmuNOW6llsLG8kF3t",
      "include_colab_link": true
    },
    "kernelspec": {
      "name": "python3",
      "display_name": "Python 3"
    },
    "language_info": {
      "name": "python"
    }
  },
  "cells": [
    {
      "cell_type": "markdown",
      "metadata": {
        "id": "view-in-github",
        "colab_type": "text"
      },
      "source": [
        "<a href=\"https://colab.research.google.com/github/SayanGhosh1489/BingNewsSearch/blob/main/Bing_News_Summarizer_with_Azure_OpennAI.ipynb\" target=\"_parent\"><img src=\"https://colab.research.google.com/assets/colab-badge.svg\" alt=\"Open In Colab\"/></a>"
      ]
    },
    {
      "cell_type": "code",
      "execution_count": 157,
      "metadata": {
        "id": "YPA3HrKEDLbu",
        "colab": {
          "base_uri": "https://localhost:8080/"
        },
        "outputId": "af5913df-5d66-4365-c07a-cf75cd5f1759"
      },
      "outputs": [
        {
          "output_type": "stream",
          "name": "stderr",
          "text": [
            "[nltk_data] Downloading package stopwords to /root/nltk_data...\n",
            "[nltk_data]   Package stopwords is already up-to-date!\n"
          ]
        },
        {
          "output_type": "execute_result",
          "data": {
            "text/plain": [
              "True"
            ]
          },
          "metadata": {},
          "execution_count": 157
        }
      ],
      "source": [
        "from google.colab import userdata\n",
        "from openai import AzureOpenAI\n",
        "import os\n",
        "import requests\n",
        "from bs4 import BeautifulSoup\n",
        "import re\n",
        "import nltk\n",
        "from nltk.corpus import stopwords\n",
        "from nltk.stem import PorterStemmer\n",
        "from pprint import pprint\n",
        "nltk.download('stopwords')"
      ]
    },
    {
      "cell_type": "markdown",
      "source": [
        "## Constants and variables"
      ],
      "metadata": {
        "id": "3e_tFiIbhsbk"
      }
    },
    {
      "cell_type": "code",
      "source": [
        "key = userdata.get('AZURE-OPENAI-KEY')\n",
        "endpoint = userdata.get('AZURE-OPENAI-ENDPOINT')\n",
        "deployment = 'gpt-4'\n",
        "\n",
        "bing_news_key = userdata.get('BING-NEWS-KEY')\n",
        "bing_news_api = \"https://api.bing.microsoft.com/v7.0/news/search\"\n",
        "search_term = \"tata motors share\"\n",
        "count = 10\n",
        "MAX_TOKENS = 8192  # Model's max tokens\n",
        "RESERVED_TOKENS = 800  # For response, system messages, etc.\n",
        "available_tokens = MAX_TOKENS - RESERVED_TOKENS"
      ],
      "metadata": {
        "id": "4kpMUOprDoYT"
      },
      "execution_count": 156,
      "outputs": []
    },
    {
      "cell_type": "code",
      "source": [
        "headers = {\"Ocp-Apim-Subscription-Key\" : bing_news_key}"
      ],
      "metadata": {
        "id": "83LoakvSLLPp"
      },
      "execution_count": 119,
      "outputs": []
    },
    {
      "cell_type": "code",
      "source": [
        "#getting news from bing news\n",
        "\n",
        "params  = { 'q' : search_term,\n",
        "    \"textDecorations\": True,\n",
        "    \"textFormat\": \"HTML\",\n",
        "    \"freshness\" : \"Month\",\n",
        "    \"mkt\" : 'en-IN',\n",
        "    'count' : count,\n",
        "    'sortBy': 'date'}\n",
        "\n",
        "\n",
        "response = requests.get(bing_news_api,headers= headers, params= params)"
      ],
      "metadata": {
        "id": "rhHbgGg-Hlfe"
      },
      "execution_count": 120,
      "outputs": []
    },
    {
      "cell_type": "code",
      "source": [
        "search_result = response.json()\n",
        "search_result.keys()"
      ],
      "metadata": {
        "colab": {
          "base_uri": "https://localhost:8080/"
        },
        "id": "thsan6GzLXuX",
        "outputId": "56eaba5c-7ea1-47dd-f964-9853a1d587a9"
      },
      "execution_count": 121,
      "outputs": [
        {
          "output_type": "execute_result",
          "data": {
            "text/plain": [
              "dict_keys(['_type', 'readLink', 'queryContext', 'totalEstimatedMatches', 'sort', 'value'])"
            ]
          },
          "metadata": {},
          "execution_count": 121
        }
      ]
    },
    {
      "cell_type": "code",
      "source": [
        "urls = []\n",
        "for i, term in enumerate(search_result['value']):\n",
        "  print(i, term['datePublished'])\n",
        "  print(term['url'])\n",
        "  urls.append(term['url'])\n",
        "  print(\"==\"*10)"
      ],
      "metadata": {
        "colab": {
          "base_uri": "https://localhost:8080/"
        },
        "id": "bivCWNoJRUTW",
        "outputId": "df2ba8e6-c57f-47c6-80a5-6cd14a5a829c"
      },
      "execution_count": 124,
      "outputs": [
        {
          "output_type": "stream",
          "name": "stdout",
          "text": [
            "0 2025-01-27T14:22:00.0000000Z\n",
            "https://www.dnaindia.com/business/report-stock-markets-fall-for-2nd-day-mukesh-ambani-reliance-loses-rs-22937-crore-share-market-news-bse-nse-3129257\n",
            "====================\n",
            "1 2025-01-27T12:41:00.0000000Z\n",
            "https://www.businesstoday.in/markets/stocks/story/tata-motors-shares-hit-one-year-low-should-investors-consider-averaging-462173-2025-01-27\n",
            "====================\n",
            "2 2025-01-27T10:17:00.0000000Z\n",
            "https://www.goodreturns.in/news/tata-group-stock-not-tata-motors-2-hidden-tata-stocks-are-worst-performers-in-30-days-down-14-23-buy-1401799.html\n",
            "====================\n",
            "3 2025-01-27T08:46:00.0000000Z\n",
            "https://economictimes.indiatimes.com/markets/stocks/stock-liveblog/tata-motors-share-price-live-27-jan-2025/liveblog/117589541.cms\n",
            "====================\n",
            "4 2025-01-27T08:04:00.0000000Z\n",
            "https://www.msn.com/en-in/autos/news/toyota-suv-mpv-sales-see-highest-growth-of-43-percent-in-april-december-2024/ar-AA1xV5ZR\n",
            "====================\n",
            "5 2025-01-27T07:09:00.0000000Z\n",
            "https://www.goodreturns.in/news/tata-motors-share-falls-2-89-hits-52-week-low-m-cap-falls-to-rs-2-64l-cr-a-buying-opportunity-1401733.html\n",
            "====================\n",
            "6 2025-01-27T06:55:00.0000000Z\n",
            "https://www.businesstoday.in/markets/company-stock/story/tata-motors-q3-earnings-profit-likely-to-fall-jlrs-performance-key-factor-462112-2025-01-27\n",
            "====================\n",
            "7 2025-01-27T05:26:00.0000000Z\n",
            "https://sports.ndtv.com/chess/uzbek-gm-yakubboev-refuses-hand-shake-with-indias-vaishali-over-religious-reasons-then-says-sorry-7568196\n",
            "====================\n",
            "8 2025-01-26T23:45:00.0000000Z\n",
            "https://www.newindianexpress.com/business/2025/Jan/27/ev-market-share-will-double-in-2025-vivek-srivatsa\n",
            "====================\n",
            "9 2025-01-25T04:40:00.0000000Z\n",
            "https://www.msn.com/en-in/autos/electric-cars/tata-motors-bets-on-local-battery-manufacturing-to-maintain-ev-market-leadership/ar-AA1xPBBb\n",
            "====================\n"
          ]
        }
      ]
    },
    {
      "cell_type": "markdown",
      "source": [
        "## Collecting all the text"
      ],
      "metadata": {
        "id": "UVs1eRW7h7V-"
      }
    },
    {
      "cell_type": "code",
      "source": [
        "final_text = \" \"\n",
        "for url in urls:\n",
        "  response1 = requests.get(url)\n",
        "  result = BeautifulSoup(response1.content, 'html.parser')\n",
        "  text = result.find('body').get_text()\n",
        "\n",
        "  final_text = final_text+text"
      ],
      "metadata": {
        "id": "DJBsO2ULTd0o"
      },
      "execution_count": 128,
      "outputs": []
    },
    {
      "cell_type": "markdown",
      "source": [
        "## Text Cleaning"
      ],
      "metadata": {
        "id": "Jpdtps5GibBX"
      }
    },
    {
      "cell_type": "code",
      "source": [
        "def clean_text(text):\n",
        "    whitespace = re.compile(r\"\\s+\")\n",
        "    user = re.compile(r\"(?i)@[a-z0-9_]+\")\n",
        "    urls = re.compile(r\"http[s]?://\\S+\")\n",
        "    text = whitespace.sub(' ', text)\n",
        "    text = user.sub('', text)\n",
        "    text = re.sub(r\"\\[[^()]*\\]\",\"\", text)\n",
        "    text = re.sub(r'[^\\w\\s]','',text)\n",
        "    text = re.sub(r\"(?:@\\S*|#\\S*|http(?=.*://)\\S*)\", \"\", text)\n",
        "    text = urls.sub('', text)\n",
        "    text = text.lower()\n",
        "\n",
        "    # removing stop-words\n",
        "    STOPWORDS = set(stopwords.words('english'))\n",
        "    lemmatizer = PorterStemmer()\n",
        "    words = [lemmatizer.stem(word) for word in text.split() if word not in STOPWORDS]\n",
        "    words = words[:8190]\n",
        "    print(len(words))\n",
        "    final =  ' '.join(words)\n",
        "    print(len(final))\n",
        "    return final\n"
      ],
      "metadata": {
        "id": "gl66xDGvdnUt"
      },
      "execution_count": 154,
      "outputs": []
    },
    {
      "cell_type": "code",
      "source": [
        "cleaned_text = clean_text(final_text)"
      ],
      "metadata": {
        "colab": {
          "base_uri": "https://localhost:8080/"
        },
        "id": "e3vcczlucs5Z",
        "outputId": "65fe38e7-0ba5-4056-fcef-6257cc5380e4"
      },
      "execution_count": 155,
      "outputs": [
        {
          "output_type": "stream",
          "name": "stdout",
          "text": [
            "7081\n",
            "46095\n"
          ]
        }
      ]
    },
    {
      "cell_type": "code",
      "source": [
        "# Truncate the cleaned text to fit the available tokens\n",
        "cleaned_text = ' '.join(cleaned_text.split()[:available_tokens // 2])"
      ],
      "metadata": {
        "id": "KVJLhTBteioi"
      },
      "execution_count": 148,
      "outputs": []
    },
    {
      "cell_type": "code",
      "source": [
        "client = AzureOpenAI(azure_endpoint = endpoint,\n",
        "                     api_key =  key,\n",
        "                     api_version = \"2024-05-01-preview\")"
      ],
      "metadata": {
        "id": "bO9gtgVpD4Ou"
      },
      "execution_count": 149,
      "outputs": []
    },
    {
      "cell_type": "code",
      "source": [],
      "metadata": {
        "id": "Z_ws8ZdUFyf7"
      },
      "execution_count": 149,
      "outputs": []
    },
    {
      "cell_type": "code",
      "source": [
        "chat_prompt = [\n",
        "    {\n",
        "        \"role\": \"system\",\n",
        "        \"content\": [\n",
        "            {\n",
        "                \"type\": \"text\",\n",
        "                \"text\": f\"You are an AI assistant to sumarize the provided text and limited to {search_term}.\"\n",
        "            }\n",
        "        ]\n",
        "    }\n",
        "]\n",
        "\n",
        "# user_text = input(\"Enter your question: \")\n",
        "\n",
        "user_prompt = {\n",
        "\n",
        "               \"role\": \"user\",\n",
        "               \"content\" : [\n",
        "                   {\n",
        "                       \"type\" : \"text\",\n",
        "                       \"text\" : cleaned_text\n",
        "                   }\n",
        "               ]\n",
        "}\n",
        "\n",
        "chat_prompt.append(user_prompt)\n",
        "\n",
        "# Generate the completion\n",
        "completion = client.chat.completions.create(\n",
        "    model=deployment,\n",
        "    messages=chat_prompt,\n",
        "    max_tokens=800,\n",
        "    temperature=0.7,\n",
        "    top_p=0.4,\n",
        "    frequency_penalty=0.13,\n",
        "    presence_penalty=0.3,\n",
        "    stop=None,\n",
        "    stream=False\n",
        ")"
      ],
      "metadata": {
        "colab": {
          "base_uri": "https://localhost:8080/"
        },
        "id": "ADv9K6CuGaUF",
        "outputId": "6fa825f8-669a-40c7-f9c0-34b403797697"
      },
      "execution_count": 151,
      "outputs": [
        {
          "output_type": "stream",
          "name": "stdout",
          "text": [
            "The share price of Tata Motors has hit a one-year low, slipping 3.33% to a 52-week low value of Rs 709.40. The stock eventually settled at a decrease of 2.83% at Rs 713.15. Over the past six months, the price has corrected by 36.54%. The stock saw high trading volumes on the BSE with around 7.62 lakh shares changing hands. The turnover for the counter was Rs 547.3 crore, and it commands a market capitalisation of Rs 262519.42 crore. Market experts suggest that the technical outlook for Tata Motors looks bleak with immediate support seen in the Rs 700-680 range.\n"
          ]
        }
      ]
    },
    {
      "cell_type": "code",
      "source": [
        "pprint(completion.choices[0].message.content)"
      ],
      "metadata": {
        "id": "riokgNc1ISt1",
        "colab": {
          "base_uri": "https://localhost:8080/"
        },
        "outputId": "f2687bf4-eaa9-41be-82d7-bcdc13e3452d"
      },
      "execution_count": 153,
      "outputs": [
        {
          "output_type": "stream",
          "name": "stdout",
          "text": [
            "('The share price of Tata Motors has hit a one-year low, slipping 3.33% to a '\n",
            " '52-week low value of Rs 709.40. The stock eventually settled at a decrease '\n",
            " 'of 2.83% at Rs 713.15. Over the past six months, the price has corrected by '\n",
            " '36.54%. The stock saw high trading volumes on the BSE with around 7.62 lakh '\n",
            " 'shares changing hands. The turnover for the counter was Rs 547.3 crore, and '\n",
            " 'it commands a market capitalisation of Rs 262519.42 crore. Market experts '\n",
            " 'suggest that the technical outlook for Tata Motors looks bleak with '\n",
            " 'immediate support seen in the Rs 700-680 range.')\n"
          ]
        }
      ]
    },
    {
      "cell_type": "code",
      "source": [],
      "metadata": {
        "id": "dU-D7DNihO25"
      },
      "execution_count": null,
      "outputs": []
    }
  ]
}